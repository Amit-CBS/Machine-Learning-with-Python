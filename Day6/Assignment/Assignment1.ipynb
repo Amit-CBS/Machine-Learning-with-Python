{
 "cells": [
  {
   "cell_type": "code",
   "execution_count": 2,
   "metadata": {},
   "outputs": [
    {
     "name": "stdout",
     "output_type": "stream",
     "text": [
      "Enter the string:ajnjjad\n",
      "Not a palindrome\n"
     ]
    }
   ],
   "source": [
    "string = input('Enter the string:')\n",
    "string1 = string[::-1]\n",
    "if string==string1:\n",
    "    print(\"Palindrome\")\n",
    "else:\n",
    "    print(\"Not a palindrome\")"
   ]
  },
  {
   "cell_type": "code",
   "execution_count": 5,
   "metadata": {},
   "outputs": [
    {
     "name": "stdout",
     "output_type": "stream",
     "text": [
      "Enter the string:anshumanamit\n",
      "Enter the string:kumar\n",
      "No\n"
     ]
    }
   ],
   "source": [
    "string2 = input('Enter the string:')\n",
    "string3 = input('Enter the string:')\n",
    "if string3 in string2:\n",
    "    print(\"Yes\")\n",
    "else:\n",
    "    print(\"No\")"
   ]
  },
  {
   "cell_type": "code",
   "execution_count": 7,
   "metadata": {},
   "outputs": [
    {
     "name": "stdout",
     "output_type": "stream",
     "text": [
      "Enter a number: 5\n",
      "1.968503937007874\n"
     ]
    }
   ],
   "source": [
    "num = eval(input(\"Enter a number: \"))\n",
    "assert num>0,\"invalid0\"\n",
    "inch = num/2.54\n",
    "print(inch)\n",
    "    "
   ]
  },
  {
   "cell_type": "code",
   "execution_count": 16,
   "metadata": {},
   "outputs": [
    {
     "name": "stdout",
     "output_type": "stream",
     "text": [
      "Enter the strin: aAaAFGH\n",
      "7\n",
      "a\n",
      "aAa\n",
      "FGH\n",
      "HGFAaAa\n",
      "AAAAFGH\n",
      "eAeAFGH\n"
     ]
    }
   ],
   "source": [
    "string4 = input(\"Enter the strin: \")\n",
    "length = len(string4)\n",
    "print(length)\n",
    "print(string4[0])\n",
    "print(string4[0:3])\n",
    "print(string4[-3:])\n",
    "print(string4[::-1])\n",
    "print(string4.upper())\n",
    "print(string4.replace('a','e')) \n"
   ]
  },
  {
   "cell_type": "code",
   "execution_count": null,
   "metadata": {},
   "outputs": [],
   "source": [
    "n = int(input(\"Enter the number: \"))\n",
    "compu = n+n*n"
   ]
  }
 ],
 "metadata": {
  "kernelspec": {
   "display_name": "Python 3",
   "language": "python",
   "name": "python3"
  },
  "language_info": {
   "codemirror_mode": {
    "name": "ipython",
    "version": 3
   },
   "file_extension": ".py",
   "mimetype": "text/x-python",
   "name": "python",
   "nbconvert_exporter": "python",
   "pygments_lexer": "ipython3",
   "version": "3.7.1"
  }
 },
 "nbformat": 4,
 "nbformat_minor": 2
}
